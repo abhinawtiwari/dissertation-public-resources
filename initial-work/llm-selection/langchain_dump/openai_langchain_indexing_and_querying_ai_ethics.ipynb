{
  "cells": [
    {
      "cell_type": "code",
      "execution_count": null,
      "metadata": {
        "id": "FXiaUkdIrKhP"
      },
      "outputs": [],
      "source": [
        "pip install langchain openai chromadb tiktoken"
      ]
    },
    {
      "cell_type": "code",
      "execution_count": 37,
      "metadata": {
        "id": "sYRPkfAorHs0"
      },
      "outputs": [],
      "source": [
        "from langchain.document_loaders import DirectoryLoader\n",
        "from langchain.document_loaders import TextLoader\n",
        "from langchain.text_splitter import RecursiveCharacterTextSplitter\n",
        "from langchain.embeddings import OpenAIEmbeddings\n",
        "from langchain.vectorstores import Chroma\n",
        "from langchain.chains import RetrievalQA\n",
        "from langchain.llms import OpenAI"
      ]
    },
    {
      "cell_type": "code",
      "execution_count": 6,
      "metadata": {
        "id": "6tr2Pd89qa3r"
      },
      "outputs": [],
      "source": [
        "import os\n",
        "os.environ[\"OPENAI_API_KEY\"] = \"\""
      ]
    },
    {
      "cell_type": "code",
      "execution_count": 9,
      "metadata": {
        "id": "8zWMMvtOqmy_"
      },
      "outputs": [],
      "source": [
        "loader = DirectoryLoader('./abhi/', glob=\"./*.txt\", loader_cls=TextLoader)\n",
        "documents = loader.load()"
      ]
    },
    {
      "cell_type": "code",
      "execution_count": 12,
      "metadata": {
        "id": "jREG073mrD1s"
      },
      "outputs": [],
      "source": [
        "#splitting the text into\n",
        "text_splitter = RecursiveCharacterTextSplitter(chunk_size=1000, chunk_overlap=200)\n",
        "texts = text_splitter.split_documents(documents)"
      ]
    },
    {
      "cell_type": "code",
      "execution_count": 13,
      "metadata": {
        "colab": {
          "base_uri": "https://localhost:8080/"
        },
        "id": "I-bc2Kpkre5h",
        "outputId": "d26ce58b-a0fc-47b6-ca86-d8a14c04f4fc"
      },
      "outputs": [
        {
          "data": {
            "text/plain": [
              "8"
            ]
          },
          "execution_count": 13,
          "metadata": {},
          "output_type": "execute_result"
        }
      ],
      "source": [
        "len(texts)"
      ]
    },
    {
      "cell_type": "code",
      "execution_count": 14,
      "metadata": {
        "colab": {
          "base_uri": "https://localhost:8080/"
        },
        "id": "jFCH3j4wrkyo",
        "outputId": "7b6ee577-2b02-4d76-b4e1-32ae0439b6de"
      },
      "outputs": [
        {
          "data": {
            "text/plain": [
              "Document(page_content=\"A stakeholder is someone who is affected by the activities of an organization. Stakeholders can be internal, such as employees, or external, such as customers or suppliers. \\n\\nStakeholder Outcome \\n\\nA stakeholder outcome is a change that occurs in the life of a stakeholder as a result of the activities of an organization. Stakeholder outcomes can be positive or negative, and they can be short-term or long-term. \\n\\nImpact Report \\n\\nAn impact report is a document that describes the impact of an organization's activities. Impact reports can be used to communicate the organization's impact to stakeholders, funders, and the public. \\n\\nImpact Risk \\n\\nAn impact risk is a factor that could prevent an organization from achieving its goals. Impact risks can be internal, such as a lack of resources, or external, such as a change in the political climate. \\n\\nIndicator\", metadata={'source': 'abhi/ontology.txt'})"
            ]
          },
          "execution_count": 14,
          "metadata": {},
          "output_type": "execute_result"
        }
      ],
      "source": [
        "texts[2]"
      ]
    },
    {
      "cell_type": "code",
      "execution_count": 17,
      "metadata": {
        "colab": {
          "base_uri": "https://localhost:8080/"
        },
        "id": "d0wiJZ4jroje",
        "outputId": "9e95c8fe-f4c6-48c4-ca75-8089780b5fd3"
      },
      "outputs": [
        {
          "data": {
            "text/plain": [
              "Document(page_content=\"- Argentina's senate rejected a bill to legalise abortion in the first 14 weeks of pregnancy in August 2018.\\n- Operator: Ministry of Early Childhoood, Salta Province Developer: Microsoft; Conin Foundation \\xa0Country: Argentina; Brazil Sector: Govt - health Purpose: Predict teenager pregnancy Technology: Prediction algorithm Issue: Accuracy/reliability; Privacy; Appropriateness/need; Effectiveness/value Transparency: Governance; Black box; Marketing\", metadata={'source': 'abhi/microsoft-teen-pregnancy-predictions.txt'})"
            ]
          },
          "execution_count": 17,
          "metadata": {},
          "output_type": "execute_result"
        }
      ],
      "source": [
        "texts[7]"
      ]
    },
    {
      "cell_type": "code",
      "execution_count": 25,
      "metadata": {
        "id": "sIZCb-30rrD7"
      },
      "outputs": [],
      "source": [
        "persist_directory = 'db'\n",
        "embedding = OpenAIEmbeddings()\n",
        "vectordb = Chroma.from_documents(documents=texts, \n",
        "                                 embedding=embedding,\n",
        "                                 persist_directory=persist_directory)"
      ]
    },
    {
      "cell_type": "code",
      "execution_count": 26,
      "metadata": {
        "id": "ryaX1Y2qsBKy"
      },
      "outputs": [],
      "source": [
        "# persiste the db to disk\n",
        "vectordb.persist()\n",
        "vectordb = None"
      ]
    },
    {
      "cell_type": "code",
      "execution_count": 27,
      "metadata": {
        "id": "-W9sn9r3xEhb"
      },
      "outputs": [],
      "source": [
        "# Now we can load the persisted database from disk, and use it as normal. \n",
        "vectordb = Chroma(persist_directory=persist_directory, \n",
        "                  embedding_function=embedding)"
      ]
    },
    {
      "cell_type": "code",
      "execution_count": 28,
      "metadata": {
        "id": "Q6IrrgPixHM-"
      },
      "outputs": [],
      "source": [
        "retriever = vectordb.as_retriever()"
      ]
    },
    {
      "cell_type": "code",
      "execution_count": 29,
      "metadata": {
        "id": "0EmrMFoZxMf_"
      },
      "outputs": [],
      "source": [
        "docs = retriever.get_relevant_documents(\"what is cids?\")"
      ]
    },
    {
      "cell_type": "code",
      "execution_count": 30,
      "metadata": {
        "colab": {
          "base_uri": "https://localhost:8080/"
        },
        "id": "Q-hLLWHdxRp_",
        "outputId": "8f818cee-6375-4ba9-afda-f9d5ff855d62"
      },
      "outputs": [
        {
          "data": {
            "text/plain": [
              "4"
            ]
          },
          "execution_count": 30,
          "metadata": {},
          "output_type": "execute_result"
        }
      ],
      "source": [
        "len(docs)"
      ]
    },
    {
      "cell_type": "code",
      "execution_count": 31,
      "metadata": {
        "id": "udJLaUUExU_-"
      },
      "outputs": [],
      "source": [
        "retriever = vectordb.as_retriever(search_kwargs={\"k\": 2})"
      ]
    },
    {
      "cell_type": "code",
      "execution_count": 32,
      "metadata": {
        "colab": {
          "base_uri": "https://localhost:8080/",
          "height": 35
        },
        "id": "XAzTsuYdxYtT",
        "outputId": "6e8afd1a-24e8-4b59-faa2-903ae3176cb9"
      },
      "outputs": [
        {
          "data": {
            "application/vnd.google.colaboratory.intrinsic+json": {
              "type": "string"
            },
            "text/plain": [
              "'similarity'"
            ]
          },
          "execution_count": 32,
          "metadata": {},
          "output_type": "execute_result"
        }
      ],
      "source": [
        "retriever.search_type"
      ]
    },
    {
      "cell_type": "code",
      "execution_count": 33,
      "metadata": {
        "colab": {
          "base_uri": "https://localhost:8080/"
        },
        "id": "Zq5T5KCpxcBh",
        "outputId": "128d4352-e371-43b9-a7fb-5f095eb6b33e"
      },
      "outputs": [
        {
          "data": {
            "text/plain": [
              "{'k': 2}"
            ]
          },
          "execution_count": 33,
          "metadata": {},
          "output_type": "execute_result"
        }
      ],
      "source": [
        "retriever.search_kwargs"
      ]
    },
    {
      "cell_type": "code",
      "execution_count": 38,
      "metadata": {
        "id": "fDnZeppNxeIF"
      },
      "outputs": [],
      "source": [
        "# create the chain to answer questions \n",
        "qa_chain = RetrievalQA.from_chain_type(llm=OpenAI(), \n",
        "                                  chain_type=\"stuff\", \n",
        "                                  retriever=retriever, \n",
        "                                  return_source_documents=True)"
      ]
    },
    {
      "cell_type": "code",
      "execution_count": 39,
      "metadata": {
        "id": "ODtbL-Vnxhep"
      },
      "outputs": [],
      "source": [
        "query = \"What is an organization?\"\n",
        "llm_response = qa_chain(query)\n"
      ]
    },
    {
      "cell_type": "code",
      "execution_count": 40,
      "metadata": {
        "colab": {
          "base_uri": "https://localhost:8080/"
        },
        "id": "bD33Wq9wzmTh",
        "outputId": "fe673ffb-e976-42cf-c8c0-a40cd6ae479a"
      },
      "outputs": [
        {
          "data": {
            "text/plain": [
              "{'query': 'What is an organization?',\n",
              " 'result': ' An organization is a group of people who work together to achieve a common goal.',\n",
              " 'source_documents': [Document(page_content='Organization \\n\\nAn organization is a group of people who work together to achieve a common goal. Organizations can be large or small, public or private, and profit-making or non-profit. \\n\\nImpact Model \\n\\nAn impact model is a tool that organizations use to understand and measure their impact. It helps organizations to identify their goals, track their progress, and communicate their impact to others. \\n\\nProgram \\n\\nA program is a set of activities that are designed to achieve a specific goal. Programs can be implemented by organizations, governments, or individuals. \\n\\nService \\n\\nA service is a product or activity that is provided to others. Services can be provided by organizations, governments, or individuals. \\n\\nActivity \\n\\nAn activity is a specific task that is performed as part of a program or service. Activities can be as simple as providing information or as complex as providing medical care. \\n\\nInput', metadata={'source': 'abhi/ontology.txt'}),\n",
              "  Document(page_content=\"Impact Duration \\n\\nThe impact duration is the length of time that an organization's impact lasts. Impact duration can be measured in terms of years, decades, or even centuries.\", metadata={'source': 'abhi/ontology.txt'})]}"
            ]
          },
          "execution_count": 40,
          "metadata": {},
          "output_type": "execute_result"
        }
      ],
      "source": [
        "llm_response"
      ]
    },
    {
      "cell_type": "code",
      "execution_count": 42,
      "metadata": {
        "colab": {
          "base_uri": "https://localhost:8080/"
        },
        "id": "vrsb6XK8zoTO",
        "outputId": "61e02faf-0127-4969-fb6e-07fe1c0586b5"
      },
      "outputs": [
        {
          "data": {
            "text/plain": [
              "{'query': 'who are the stakeholders in the microsoft teen pregnancy prediction story?',\n",
              " 'result': ' The stakeholders in the Microsoft teen pregnancy prediction story are the Ministry of Early Childhood in Salta Province, Microsoft, Conin Foundation, Argentina, Brazil, the government, and the people affected by the prediction algorithm.',\n",
              " 'source_documents': [Document(page_content=\"- Released: 2016\\n- Can you improve this page?Share your insights with us\\n- The Technology Platform for Social Intervention (Plataforma Tecnológica de Intervención Social) is a controversial algorithmic system used to predict teenage pregnancy in Argentina, Brazil, and Colombia.\\n- Developed in 2016 by Microsoft for the Ministry of Early Childhood in Salta province, Argentina, the system draws on age, ethnicity, country of origin, disability, and socio-economic data of some 200,000 women and girls, including 12,000 between the ages of 10 and 19.\\n- Microsoft announced the system is 'one of the pioneering cases in the use of AI data' in Argentina. Then governor of Salta Juan Manuel Urtubey claimed it would enable authorities to 'foresee five or six years in advance, with first name, last name, and address, which girl - future teenager - is 86 percent predestined to have an adolescent pregnancy'.\", metadata={'source': 'abhi/microsoft-teen-pregnancy-predictions.txt'}),\n",
              "  Document(page_content=\"- Argentina's senate rejected a bill to legalise abortion in the first 14 weeks of pregnancy in August 2018.\\n- Operator: Ministry of Early Childhoood, Salta Province Developer: Microsoft; Conin Foundation \\xa0Country: Argentina; Brazil Sector: Govt - health Purpose: Predict teenager pregnancy Technology: Prediction algorithm Issue: Accuracy/reliability; Privacy; Appropriateness/need; Effectiveness/value Transparency: Governance; Black box; Marketing\", metadata={'source': 'abhi/microsoft-teen-pregnancy-predictions.txt'})]}"
            ]
          },
          "execution_count": 42,
          "metadata": {},
          "output_type": "execute_result"
        }
      ],
      "source": [
        "llm_response = qa_chain('who are the stakeholders in the microsoft teen pregnancy prediction story?')\n",
        "llm_response[result]"
      ]
    },
    {
      "cell_type": "code",
      "execution_count": 44,
      "metadata": {
        "colab": {
          "base_uri": "https://localhost:8080/"
        },
        "id": "nX_6nN8L0DCu",
        "outputId": "9f701360-e24d-4084-df5d-e81e28646b89"
      },
      "outputs": [
        {
          "data": {
            "text/plain": [
              "{'query': 'find impact scale in the microsoft teen pregnancy prediction story?',\n",
              " 'result': ' It is difficult to determine the impact scale of the Microsoft teen pregnancy prediction story without more information.',\n",
              " 'source_documents': [Document(page_content=\"- Released: 2016\\n- Can you improve this page?Share your insights with us\\n- The Technology Platform for Social Intervention (Plataforma Tecnológica de Intervención Social) is a controversial algorithmic system used to predict teenage pregnancy in Argentina, Brazil, and Colombia.\\n- Developed in 2016 by Microsoft for the Ministry of Early Childhood in Salta province, Argentina, the system draws on age, ethnicity, country of origin, disability, and socio-economic data of some 200,000 women and girls, including 12,000 between the ages of 10 and 19.\\n- Microsoft announced the system is 'one of the pioneering cases in the use of AI data' in Argentina. Then governor of Salta Juan Manuel Urtubey claimed it would enable authorities to 'foresee five or six years in advance, with first name, last name, and address, which girl - future teenager - is 86 percent predestined to have an adolescent pregnancy'.\", metadata={'source': 'abhi/microsoft-teen-pregnancy-predictions.txt'}),\n",
              "  Document(page_content=\"- Argentina's senate rejected a bill to legalise abortion in the first 14 weeks of pregnancy in August 2018.\\n- Operator: Ministry of Early Childhoood, Salta Province Developer: Microsoft; Conin Foundation \\xa0Country: Argentina; Brazil Sector: Govt - health Purpose: Predict teenager pregnancy Technology: Prediction algorithm Issue: Accuracy/reliability; Privacy; Appropriateness/need; Effectiveness/value Transparency: Governance; Black box; Marketing\", metadata={'source': 'abhi/microsoft-teen-pregnancy-predictions.txt'})]}"
            ]
          },
          "execution_count": 44,
          "metadata": {},
          "output_type": "execute_result"
        }
      ],
      "source": [
        "llm_response = qa_chain('find impact scale in the microsoft teen pregnancy prediction story?')\n",
        "llm_response"
      ]
    },
    {
      "cell_type": "code",
      "execution_count": 45,
      "metadata": {
        "colab": {
          "base_uri": "https://localhost:8080/",
          "height": 53
        },
        "id": "qoENXjev08yE",
        "outputId": "26152edb-1da3-4cfc-8015-c7286fdd2436"
      },
      "outputs": [
        {
          "data": {
            "application/vnd.google.colaboratory.intrinsic+json": {
              "type": "string"
            },
            "text/plain": [
              "' It is difficult to determine the impact scale of the Microsoft teen pregnancy prediction story without more information.'"
            ]
          },
          "execution_count": 45,
          "metadata": {},
          "output_type": "execute_result"
        }
      ],
      "source": [
        "llm_response['result']"
      ]
    },
    {
      "cell_type": "code",
      "execution_count": 47,
      "metadata": {
        "colab": {
          "base_uri": "https://localhost:8080/"
        },
        "id": "undPKWl42JXT",
        "outputId": "3c5b7be1-2846-48ce-abc8-911fda4c2d79"
      },
      "outputs": [
        {
          "data": {
            "text/plain": [
              "{'query': 'find the following in the Microsoft teen pregnancy prediction story: Organization, Impact Model, Program, Service, Activity, Input, Output, Outcome, Stakeholder, Stakeholder Outcome, Impact Report, Impact Risk, Indicator, Indicator Report, Impact Scale, Impact Depth, Impact Duration',\n",
              " 'result': ' The Microsoft teen pregnancy prediction story includes an organization (Microsoft), a program (Microsoft’s Teen Pregnancy Prediction Program), a service (Microsoft’s Predictive Analytics Service), activities (collecting and analyzing data), inputs (data and resources), outputs (predictions and insights), outcomes (reduction in teen pregnancy rates), stakeholders (teens, parents, and healthcare providers), stakeholder outcomes (reduced teen pregnancy rates and improved access to healthcare services), an impact report (Microsoft’s annual report on the program’s results), an impact risk (the risk of teen pregnancy), indicators (data points that measure the success of the program), an indicator report (Microsoft’s report on the success of the program), an impact scale (the degree to which the program has achieved its goals), an impact depth (the degree to which the program has achieved its goals across different demographics), and an impact duration (the length of time that the program has been in effect). An impact model was not mentioned in the story.',\n",
              " 'source_documents': [Document(page_content='Organization \\n\\nAn organization is a group of people who work together to achieve a common goal. Organizations can be large or small, public or private, and profit-making or non-profit. \\n\\nImpact Model \\n\\nAn impact model is a tool that organizations use to understand and measure their impact. It helps organizations to identify their goals, track their progress, and communicate their impact to others. \\n\\nProgram \\n\\nA program is a set of activities that are designed to achieve a specific goal. Programs can be implemented by organizations, governments, or individuals. \\n\\nService \\n\\nA service is a product or activity that is provided to others. Services can be provided by organizations, governments, or individuals. \\n\\nActivity \\n\\nAn activity is a specific task that is performed as part of a program or service. Activities can be as simple as providing information or as complex as providing medical care. \\n\\nInput', metadata={'source': 'abhi/ontology.txt'}),\n",
              "  Document(page_content='Activity \\n\\nAn activity is a specific task that is performed as part of a program or service. Activities can be as simple as providing information or as complex as providing medical care. \\n\\nInput \\n\\nAn input is a resource that is used to produce an output. Inputs can be financial, human, or physical resources. \\n\\nOutput \\n\\nAn output is a product or service that is produced by an activity. Outputs can be tangible, such as a product, or intangible, such as a change in knowledge or behavior. \\n\\nOutcome \\n\\nAn outcome is a change that occurs as a result of an output. Outcomes can be positive or negative, and they can be short-term or long-term. \\n\\nStakeholder \\n\\nA stakeholder is someone who is affected by the activities of an organization. Stakeholders can be internal, such as employees, or external, such as customers or suppliers. \\n\\nStakeholder Outcome', metadata={'source': 'abhi/ontology.txt'})]}"
            ]
          },
          "execution_count": 47,
          "metadata": {},
          "output_type": "execute_result"
        }
      ],
      "source": [
        "qa_chain('find the following in the Microsoft teen pregnancy prediction story: Organization, Impact Model, Program, Service, Activity, Input, Output, Outcome, Stakeholder, Stakeholder Outcome, Impact Report, Impact Risk, Indicator, Indicator Report, Impact Scale, Impact Depth, Impact Duration')"
      ]
    },
    {
      "cell_type": "code",
      "execution_count": 48,
      "metadata": {
        "colab": {
          "base_uri": "https://localhost:8080/"
        },
        "id": "rSHkA-oh2lW1",
        "outputId": "2cf5273e-aa82-4e57-b031-7b11ea4c6f35"
      },
      "outputs": [
        {
          "data": {
            "text/plain": [
              "{'query': 'provide the following from the Microsoft teen pregnancy prediction story in csv format: Organization, Impact Model, Program, Service, Activity, Input, Output, Outcome, Stakeholder, Stakeholder Outcome, Impact Report, Impact Risk, Indicator, Indicator Report, Impact Scale, Impact Depth, Impact Duration',\n",
              " 'result': \" I don't know.\",\n",
              " 'source_documents': [Document(page_content=\"- Released: 2016\\n- Can you improve this page?Share your insights with us\\n- The Technology Platform for Social Intervention (Plataforma Tecnológica de Intervención Social) is a controversial algorithmic system used to predict teenage pregnancy in Argentina, Brazil, and Colombia.\\n- Developed in 2016 by Microsoft for the Ministry of Early Childhood in Salta province, Argentina, the system draws on age, ethnicity, country of origin, disability, and socio-economic data of some 200,000 women and girls, including 12,000 between the ages of 10 and 19.\\n- Microsoft announced the system is 'one of the pioneering cases in the use of AI data' in Argentina. Then governor of Salta Juan Manuel Urtubey claimed it would enable authorities to 'foresee five or six years in advance, with first name, last name, and address, which girl - future teenager - is 86 percent predestined to have an adolescent pregnancy'.\", metadata={'source': 'abhi/microsoft-teen-pregnancy-predictions.txt'}),\n",
              "  Document(page_content='Organization \\n\\nAn organization is a group of people who work together to achieve a common goal. Organizations can be large or small, public or private, and profit-making or non-profit. \\n\\nImpact Model \\n\\nAn impact model is a tool that organizations use to understand and measure their impact. It helps organizations to identify their goals, track their progress, and communicate their impact to others. \\n\\nProgram \\n\\nA program is a set of activities that are designed to achieve a specific goal. Programs can be implemented by organizations, governments, or individuals. \\n\\nService \\n\\nA service is a product or activity that is provided to others. Services can be provided by organizations, governments, or individuals. \\n\\nActivity \\n\\nAn activity is a specific task that is performed as part of a program or service. Activities can be as simple as providing information or as complex as providing medical care. \\n\\nInput', metadata={'source': 'abhi/ontology.txt'})]}"
            ]
          },
          "execution_count": 48,
          "metadata": {},
          "output_type": "execute_result"
        }
      ],
      "source": [
        "qa_chain('provide the following from the Microsoft teen pregnancy prediction story: Organization, Impact Model, Program, Service, Activity, Input, Output, Outcome, Stakeholder, Stakeholder Outcome, Impact Report, Impact Risk, Indicator, Indicator Report, Impact Scale, Impact Depth, Impact Duration')"
      ]
    },
    {
      "cell_type": "code",
      "execution_count": null,
      "metadata": {
        "id": "__SIYWlQ3VXt"
      },
      "outputs": [],
      "source": []
    }
  ],
  "metadata": {
    "colab": {
      "provenance": []
    },
    "kernelspec": {
      "display_name": "Python 3.10.6 64-bit ('3.10.6')",
      "language": "python",
      "name": "python3"
    },
    "language_info": {
      "name": "python",
      "version": "3.10.6"
    },
    "vscode": {
      "interpreter": {
        "hash": "594e166bcc7bb8b468ecc6042179ae7326cd0ad6c0a519675eaa379c728a1df5"
      }
    }
  },
  "nbformat": 4,
  "nbformat_minor": 0
}
